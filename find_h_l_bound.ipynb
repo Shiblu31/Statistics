{
  "nbformat": 4,
  "nbformat_minor": 0,
  "metadata": {
    "colab": {
      "provenance": []
    },
    "kernelspec": {
      "name": "python3",
      "display_name": "Python 3"
    },
    "language_info": {
      "name": "python"
    }
  },
  "cells": [
    {
      "cell_type": "code",
      "execution_count": null,
      "metadata": {
        "id": "Whz8Bz5OFJVk"
      },
      "outputs": [],
      "source": [
        "import numpy as np\n",
        "import matplotlib.pyplot as plt\n",
        "%matplotlib inline"
      ]
    },
    {
      "cell_type": "code",
      "source": [
        "dataset= [11,10,12,14,12,15,14,13,15,102,12,14,17,19,107, 10,13,12,14,12,108,12,11,14,13,15,10,15,12,10,14,13,15,10]"
      ],
      "metadata": {
        "id": "VclHjN16FbEj"
      },
      "execution_count": null,
      "outputs": []
    },
    {
      "cell_type": "markdown",
      "source": [
        "find outliers\n"
      ],
      "metadata": {
        "id": "cspcBX-DG0j_"
      }
    },
    {
      "cell_type": "code",
      "source": [
        "outliers=[]\n",
        "def detect_outliers(data):\n",
        "  threshold = 3 ;\n",
        "  mean = np.mean(data)\n",
        "  std = np.std(data)\n",
        "\n",
        "\n",
        "  for i in data:\n",
        "    z_score = (i - mean) / std\n",
        "    if np.abs(z_score) > threshold :\n",
        "      outliers.append(i)\n",
        "\n",
        "  return outliers\n"
      ],
      "metadata": {
        "id": "mCL4nKOfGwjx"
      },
      "execution_count": null,
      "outputs": []
    },
    {
      "cell_type": "code",
      "source": [
        "detect_pt = detect_outliers(dataset)"
      ],
      "metadata": {
        "id": "HW6xVRhJJDLi"
      },
      "execution_count": null,
      "outputs": []
    },
    {
      "cell_type": "code",
      "source": [
        "detect_pt"
      ],
      "metadata": {
        "colab": {
          "base_uri": "https://localhost:8080/"
        },
        "id": "8a7Ba7CwJotf",
        "outputId": "4b69cdaa-59d9-4d76-fade-786e70ac1729"
      },
      "execution_count": null,
      "outputs": [
        {
          "output_type": "execute_result",
          "data": {
            "text/plain": [
              "[102, 107, 108]"
            ]
          },
          "metadata": {},
          "execution_count": 40
        }
      ]
    },
    {
      "cell_type": "code",
      "source": [
        "dataset = sorted(dataset)\n",
        "\n",
        "\n"
      ],
      "metadata": {
        "colab": {
          "base_uri": "https://localhost:8080/"
        },
        "id": "5AV_AsVhJ4_U",
        "outputId": "fdac542f-15bc-4875-d4df-82a4fe89a203"
      },
      "execution_count": null,
      "outputs": [
        {
          "output_type": "execute_result",
          "data": {
            "text/plain": [
              "[10,\n",
              " 10,\n",
              " 10,\n",
              " 10,\n",
              " 10,\n",
              " 11,\n",
              " 11,\n",
              " 12,\n",
              " 12,\n",
              " 12,\n",
              " 12,\n",
              " 12,\n",
              " 12,\n",
              " 12,\n",
              " 13,\n",
              " 13,\n",
              " 13,\n",
              " 13,\n",
              " 14,\n",
              " 14,\n",
              " 14,\n",
              " 14,\n",
              " 14,\n",
              " 14,\n",
              " 15,\n",
              " 15,\n",
              " 15,\n",
              " 15,\n",
              " 15,\n",
              " 17,\n",
              " 19,\n",
              " 102,\n",
              " 107,\n",
              " 108]"
            ]
          },
          "metadata": {},
          "execution_count": 46
        }
      ]
    },
    {
      "cell_type": "code",
      "source": [
        "q1 = np.percentile(dataset,[25])\n",
        "print(q1)"
      ],
      "metadata": {
        "colab": {
          "base_uri": "https://localhost:8080/"
        },
        "id": "UOm9pX9FO3bb",
        "outputId": "7c91dcf2-5bb2-4836-ebd6-bd7576ddf7fb"
      },
      "execution_count": null,
      "outputs": [
        {
          "output_type": "stream",
          "name": "stdout",
          "text": [
            "[12.]\n"
          ]
        }
      ]
    },
    {
      "cell_type": "code",
      "source": [
        "q3 = np.percentile(dataset,[75])\n",
        "print(q3)"
      ],
      "metadata": {
        "colab": {
          "base_uri": "https://localhost:8080/"
        },
        "id": "-5k_Dlj_Pvp4",
        "outputId": "61bc461c-43ed-4fb7-c6ea-e654a0d9bc66"
      },
      "execution_count": null,
      "outputs": [
        {
          "output_type": "stream",
          "name": "stdout",
          "text": [
            "[15.]\n"
          ]
        }
      ]
    },
    {
      "cell_type": "code",
      "source": [
        "iqr = q3 - q1"
      ],
      "metadata": {
        "id": "u-jU4ylDP4ee"
      },
      "execution_count": null,
      "outputs": []
    },
    {
      "cell_type": "code",
      "source": [
        "lower_fence = q1 - (1.5*iqr)"
      ],
      "metadata": {
        "id": "ckMvPedmQWqS"
      },
      "execution_count": null,
      "outputs": []
    },
    {
      "cell_type": "code",
      "source": [
        "higher_fence = q3 + (1.5*iqr)"
      ],
      "metadata": {
        "id": "cSYpgbj3QoKb"
      },
      "execution_count": null,
      "outputs": []
    },
    {
      "cell_type": "code",
      "source": [
        "print(lower_fence,higher_fence)"
      ],
      "metadata": {
        "colab": {
          "base_uri": "https://localhost:8080/"
        },
        "id": "3Y0ojzdZQxYE",
        "outputId": "01aa49a5-879e-4f64-9fde-9ceec9d4798d"
      },
      "execution_count": null,
      "outputs": [
        {
          "output_type": "stream",
          "name": "stdout",
          "text": [
            "[7.5] [19.5]\n"
          ]
        }
      ]
    },
    {
      "cell_type": "code",
      "source": [],
      "metadata": {
        "id": "fTN8DaYKQ2CF"
      },
      "execution_count": null,
      "outputs": []
    }
  ]
}